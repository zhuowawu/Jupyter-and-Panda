{
 "cells": [
  {
   "cell_type": "code",
   "execution_count": 19,
   "id": "dbdf4f41",
   "metadata": {},
   "outputs": [
    {
     "name": "stderr",
     "output_type": "stream",
     "text": [
      "C:\\Users\\brand\\anaconda3\\envs\\PythonData\\lib\\site-packages\\ipykernel_launcher.py:45: FutureWarning: The default value of regex will change from True to False in a future version.\n"
     ]
    },
    {
     "data": {
      "text/plain": [
       "348"
      ]
     },
     "execution_count": 19,
     "metadata": {},
     "output_type": "execute_result"
    }
   ],
   "source": [
    "import pandas as pd\n",
    "\n",
    "student_data_to_load = \"Resources/students_complete.csv\"\n",
    "student_data_df = pd.read_csv(student_data_to_load)\n",
    "\n",
    "student_data_df.head()\n",
    "\n",
    "student_names = student_data_df[\"student_name\"].tolist()\n",
    "student_names\n",
    "\n",
    "# for name in student_names:\n",
    "    # print(name.split(), len(name.split()))\n",
    "    \n",
    "students_to_fix = []\n",
    "for name in student_names:\n",
    "    if len(name.split()) >= 3:\n",
    "        students_to_fix.append(name)\n",
    "        \n",
    "# len(students_to_fix)\n",
    "# print(students_to_fix)\n",
    "\n",
    "prefixes = []\n",
    "for name in students_to_fix:\n",
    "    if len(name.split()[0]) <= 4:\n",
    "        prefixes.append(name.split()[0])\n",
    "\n",
    "# print(prefixes)\n",
    "\n",
    "suffixes = []\n",
    "for name in students_to_fix:\n",
    "    if len(name.split()[-1]) <= 3:\n",
    "        suffixes.append(name.split()[-1])\n",
    "        \n",
    "# print(suffixes)\n",
    "\n",
    "set(prefixes)\n",
    "set(suffixes)\n",
    "\n",
    "# for name in students_to_fix:\n",
    "    # print(name.strip(\"Mrs.\"))\n",
    "    \n",
    "prefixes_suffixes = [\"Dr.\", \"Mr.\", \"Ms.\", \"Mrs.\", \"Miss.\", \"MD\", \"DDS\", \"DVM\", \"PhD\"]\n",
    "\n",
    "for word in prefixes_suffixes:\n",
    "    student_data_df[\"student_name\"] = student_data_df[\"student_name\"].str.replace(word, \"\")\n",
    "    \n",
    "student_names = student_data_df[\"student_name\"].tolist()\n",
    "student_names\n",
    "    \n",
    "students_fixed = []\n",
    "\n",
    "for name in student_names:\n",
    "    if len(name.split()) >=3:\n",
    "        students_fixed.append(name)\n",
    "        \n",
    "len(students_fixed)\n"
   ]
  },
  {
   "cell_type": "code",
   "execution_count": null,
   "id": "3567ae18",
   "metadata": {},
   "outputs": [],
   "source": []
  }
 ],
 "metadata": {
  "kernelspec": {
   "display_name": "PythonData",
   "language": "python",
   "name": "pythondata"
  },
  "language_info": {
   "codemirror_mode": {
    "name": "ipython",
    "version": 3
   },
   "file_extension": ".py",
   "mimetype": "text/x-python",
   "name": "python",
   "nbconvert_exporter": "python",
   "pygments_lexer": "ipython3",
   "version": "3.7.13"
  }
 },
 "nbformat": 4,
 "nbformat_minor": 5
}
